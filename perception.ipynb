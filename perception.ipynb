{
  "nbformat": 4,
  "nbformat_minor": 0,
  "metadata": {
    "colab": {
      "provenance": [],
      "authorship_tag": "ABX9TyO0oVQGDOX+il7kWmnbG3F2",
      "include_colab_link": true
    },
    "kernelspec": {
      "name": "python3",
      "display_name": "Python 3"
    },
    "language_info": {
      "name": "python"
    }
  },
  "cells": [
    {
      "cell_type": "markdown",
      "metadata": {
        "id": "view-in-github",
        "colab_type": "text"
      },
      "source": [
        "<a href=\"https://colab.research.google.com/github/21PA1A6108/21pa1a6108/blob/main/perception.ipynb\" target=\"_parent\"><img src=\"https://colab.research.google.com/assets/colab-badge.svg\" alt=\"Open In Colab\"/></a>"
      ]
    },
    {
      "cell_type": "code",
      "execution_count": 1,
      "metadata": {
        "id": "kAsWfJfSIBIB"
      },
      "outputs": [],
      "source": [
        "import numpy as np\n",
        "import pandas as pd\n",
        "import math"
      ]
    },
    {
      "cell_type": "code",
      "source": [
        "x=np.array([0.5,0.6,0.9])\n",
        "w=np.array([0.2,0.3,0.1])\n",
        "b=0.5"
      ],
      "metadata": {
        "id": "sQKB-p1NIO5H"
      },
      "execution_count": 2,
      "outputs": []
    },
    {
      "cell_type": "code",
      "source": [
        "def stepfunction(t):\n",
        "  if t>0:\n",
        "    return 1\n",
        "  else:\n",
        "    return 0\n",
        "def prediction(x,w,b):\n",
        "  return stepfunction((np.matmul(x,w)+b))\n",
        "print(prediction(x,w,b))"
      ],
      "metadata": {
        "colab": {
          "base_uri": "https://localhost:8080/"
        },
        "id": "IkP5k1EIIiyZ",
        "outputId": "1fb83492-4359-4367-a744-60a10c2fa629"
      },
      "execution_count": 3,
      "outputs": [
        {
          "output_type": "stream",
          "name": "stdout",
          "text": [
            "1\n"
          ]
        }
      ]
    }
  ]
}